{
 "cells": [
  {
   "cell_type": "markdown",
   "metadata": {},
   "source": [
    "### Number Guessing Game"
   ]
  },
  {
   "cell_type": "code",
   "execution_count": null,
   "metadata": {},
   "outputs": [
    {
     "name": "stdout",
     "output_type": "stream",
     "text": [
      "What is your name? cv\n",
      "Hi cv!!\n",
      "I have set a number in my mind, you have to guess that number. \n",
      "Lets see whether you can guess the number correctly or not. You will get 5 chances to guess correct number!!!\n",
      "Guess a number between 1 to 100 : 45\n",
      "Your guess is high! Guess lesser value than this guessed number !\n",
      "\n"
     ]
    }
   ],
   "source": [
    "import random\n",
    "\n",
    "name =input (\"What is your name? \")\n",
    "print(\"Hi \"+ name+\"!!\\nI have set a number in my mind, you have to guess that number. \"\n",
    "      +\"\\nLets see whether you can guess the number correctly or not. You will get 5 chances to guess correct number!!!\")\n",
    "\n",
    "n=random.randint(1,100)\n",
    "guess=None\n",
    "c=0\n",
    "while guess!=n:\n",
    "    guess=int(input(\"Guess a number between 1 to 100 : \"))\n",
    "    if guess < n:\n",
    "        print(\"Your guess is low! Guess greater value than this guessed number !\\n\")\n",
    "    elif guess > n:\n",
    "        print(\"Your guess is high! Guess lesser value than this guessed number !\\n\")\n",
    "    else:\n",
    "        print(\"Congratulations! You won the Game!\\n\")\n",
    "        break\n",
    "    c+=1\n",
    "    if c==5:\n",
    "        print(\"You have lost the match!!\\n\")\n",
    "        break"
   ]
  },
  {
   "cell_type": "markdown",
   "metadata": {},
   "source": [
    "### Word Guessing Game"
   ]
  },
  {
   "cell_type": "code",
   "execution_count": 14,
   "metadata": {},
   "outputs": [
    {
     "name": "stdout",
     "output_type": "stream",
     "text": [
      "What is your name? p\n",
      "Hi p!!\n",
      "I have set a word in my mind, you have to guess that word from the Bucket. \n",
      "Lets see whether you can guess the word correctly or not. You will get 5 chances to guess correct word!!!\n",
      "Here is the bucket list: \n",
      "['dinner', 'tiffin', 'lunch', 'meal', 'breakfast', 'drinks_break']\n",
      "\n",
      "Guess the word from the bucket list: h\n",
      "Sorry wrong guess! You have 4 chances. Try again!!\n",
      "\n",
      "\n",
      "Guess the word from the bucket list: vg\n",
      "Sorry wrong guess! You have 3 chances. Try again!!\n",
      "\n",
      "\n",
      "Guess the word from the bucket list: lunch\n",
      "Sorry wrong guess! You have 2 chances. Try again!!\n",
      "\n",
      "\n",
      "Guess the word from the bucket list: meal\n",
      "Sorry wrong guess! You have 1 chances. Try again!!\n",
      "\n",
      "\n",
      "Guess the word from the bucket list: dinner\n",
      "Congratulations! You won the Game!\n",
      "\n"
     ]
    }
   ],
   "source": [
    "import random\n",
    "\n",
    "bucket = ['dinner','tiffin','lunch','meal','breakfast','drinks_break'] # You can add or replace any words in this list...\n",
    "\n",
    "name =input (\"What is your name? \")\n",
    "print(\"Hi \"+ name+\"!!\\nI have set a word in my mind, you have to guess that word from the Bucket. \"\n",
    "      +\"\\nLets see whether you can guess the word correctly or not. You will get 5 chances to guess correct word!!!\")\n",
    "print(\"Here is the bucket list: \")\n",
    "print(bucket)\n",
    "n=random.choice(bucket)\n",
    "guess=None\n",
    "c=0\n",
    "while guess!=n:\n",
    "    if c==5:\n",
    "        print(\"You have lost the match!!\\n\")\n",
    "        break\n",
    "    c+=1\n",
    "    guess=input(\"\\nGuess the word from the bucket list: \")\n",
    "    if guess!=n:\n",
    "        print(f\"Sorry wrong guess! You have {5-c} chances. Try again!!\\n\")\n",
    "    else:\n",
    "        print(\"Congratulations! You won the Game!\\n\")\n",
    "        break\n",
    "    "
   ]
  },
  {
   "cell_type": "code",
   "execution_count": null,
   "metadata": {},
   "outputs": [],
   "source": []
  }
 ],
 "metadata": {
  "kernelspec": {
   "display_name": "Python 3",
   "language": "python",
   "name": "python3"
  },
  "language_info": {
   "codemirror_mode": {
    "name": "ipython",
    "version": 3
   },
   "file_extension": ".py",
   "mimetype": "text/x-python",
   "name": "python",
   "nbconvert_exporter": "python",
   "pygments_lexer": "ipython3",
   "version": "3.7.4"
  }
 },
 "nbformat": 4,
 "nbformat_minor": 4
}
